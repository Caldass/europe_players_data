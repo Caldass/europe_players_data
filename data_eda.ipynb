{
 "cells": [
  {
   "cell_type": "code",
   "execution_count": 1,
   "metadata": {},
   "outputs": [],
   "source": [
    "import pandas as pd\n",
    "import seaborn as sns\n",
    "import matplotlib.pyplot as plt "
   ]
  },
  {
   "cell_type": "code",
   "execution_count": 2,
   "metadata": {},
   "outputs": [],
   "source": [
    "df = pd.read_csv('cleaned_df.csv')"
   ]
  },
  {
   "cell_type": "code",
   "execution_count": 3,
   "metadata": {},
   "outputs": [
    {
     "data": {
      "text/html": [
       "<div>\n",
       "<style scoped>\n",
       "    .dataframe tbody tr th:only-of-type {\n",
       "        vertical-align: middle;\n",
       "    }\n",
       "\n",
       "    .dataframe tbody tr th {\n",
       "        vertical-align: top;\n",
       "    }\n",
       "\n",
       "    .dataframe thead th {\n",
       "        text-align: right;\n",
       "    }\n",
       "</style>\n",
       "<table border=\"1\" class=\"dataframe\">\n",
       "  <thead>\n",
       "    <tr style=\"text-align: right;\">\n",
       "      <th></th>\n",
       "      <th>short_name</th>\n",
       "      <th>latest_market_value</th>\n",
       "      <th>highest_market_value</th>\n",
       "      <th>current_club</th>\n",
       "      <th>position</th>\n",
       "      <th>main_position</th>\n",
       "      <th>secondary_position</th>\n",
       "      <th>age</th>\n",
       "      <th>height</th>\n",
       "      <th>league_country</th>\n",
       "      <th>foot</th>\n",
       "      <th>player_agent</th>\n",
       "      <th>outfitter</th>\n",
       "      <th>league</th>\n",
       "      <th>on_loan_from</th>\n",
       "      <th>contract_expires</th>\n",
       "      <th>appearances</th>\n",
       "      <th>goals</th>\n",
       "      <th>assists</th>\n",
       "      <th>yellow</th>\n",
       "      <th>second_yellow</th>\n",
       "      <th>red</th>\n",
       "      <th>minutes_played</th>\n",
       "      <th>goals_conceded</th>\n",
       "      <th>clean_sheets</th>\n",
       "      <th>last_appearances</th>\n",
       "      <th>last_goals</th>\n",
       "      <th>last_yellow</th>\n",
       "      <th>last_second_yellow</th>\n",
       "      <th>last_red</th>\n",
       "      <th>last_goals_conceded</th>\n",
       "      <th>last_clean_sheets</th>\n",
       "      <th>last_assists</th>\n",
       "      <th>last_minutes_played</th>\n",
       "      <th>country</th>\n",
       "      <th>country_2</th>\n",
       "    </tr>\n",
       "  </thead>\n",
       "  <tbody>\n",
       "    <tr>\n",
       "      <th>0</th>\n",
       "      <td>Ederson</td>\n",
       "      <td>61600000.0</td>\n",
       "      <td>77000000.0</td>\n",
       "      <td>Manchester City</td>\n",
       "      <td>Goalkeeper</td>\n",
       "      <td>Goalkeeper</td>\n",
       "      <td>0</td>\n",
       "      <td>27.0</td>\n",
       "      <td>1.88</td>\n",
       "      <td>England</td>\n",
       "      <td>left</td>\n",
       "      <td>Gestifute</td>\n",
       "      <td>Nike</td>\n",
       "      <td>Premier League</td>\n",
       "      <td>0</td>\n",
       "      <td>30.06.2025</td>\n",
       "      <td>44</td>\n",
       "      <td>0</td>\n",
       "      <td>0</td>\n",
       "      <td>3</td>\n",
       "      <td>0</td>\n",
       "      <td>1</td>\n",
       "      <td>3837</td>\n",
       "      <td>37</td>\n",
       "      <td>20</td>\n",
       "      <td>55</td>\n",
       "      <td>0</td>\n",
       "      <td>3</td>\n",
       "      <td>0</td>\n",
       "      <td>0</td>\n",
       "      <td>38</td>\n",
       "      <td>28</td>\n",
       "      <td>0</td>\n",
       "      <td>4980</td>\n",
       "      <td>Brazil</td>\n",
       "      <td>1</td>\n",
       "    </tr>\n",
       "    <tr>\n",
       "      <th>1</th>\n",
       "      <td>Zack Steffen</td>\n",
       "      <td>6600000.0</td>\n",
       "      <td>11000000.0</td>\n",
       "      <td>Manchester City</td>\n",
       "      <td>Goalkeeper</td>\n",
       "      <td>Goalkeeper</td>\n",
       "      <td>0</td>\n",
       "      <td>25.0</td>\n",
       "      <td>1.91</td>\n",
       "      <td>England</td>\n",
       "      <td>right</td>\n",
       "      <td>Wasserman</td>\n",
       "      <td>unknown</td>\n",
       "      <td>Premier League</td>\n",
       "      <td>0</td>\n",
       "      <td>0</td>\n",
       "      <td>18</td>\n",
       "      <td>0</td>\n",
       "      <td>0</td>\n",
       "      <td>0</td>\n",
       "      <td>0</td>\n",
       "      <td>0</td>\n",
       "      <td>1650</td>\n",
       "      <td>37</td>\n",
       "      <td>2</td>\n",
       "      <td>13</td>\n",
       "      <td>0</td>\n",
       "      <td>0</td>\n",
       "      <td>0</td>\n",
       "      <td>0</td>\n",
       "      <td>17</td>\n",
       "      <td>4</td>\n",
       "      <td>0</td>\n",
       "      <td>1170</td>\n",
       "      <td>United States</td>\n",
       "      <td>0</td>\n",
       "    </tr>\n",
       "    <tr>\n",
       "      <th>2</th>\n",
       "      <td>Arijanet Muric</td>\n",
       "      <td>1980000.0</td>\n",
       "      <td>2200000.0</td>\n",
       "      <td>Manchester City</td>\n",
       "      <td>Goalkeeper</td>\n",
       "      <td>Goalkeeper</td>\n",
       "      <td>0</td>\n",
       "      <td>21.0</td>\n",
       "      <td>1.98</td>\n",
       "      <td>England</td>\n",
       "      <td>right</td>\n",
       "      <td>11WINS</td>\n",
       "      <td>unknown</td>\n",
       "      <td>Premier League</td>\n",
       "      <td>0</td>\n",
       "      <td>30.06.2024</td>\n",
       "      <td>5</td>\n",
       "      <td>0</td>\n",
       "      <td>0</td>\n",
       "      <td>0</td>\n",
       "      <td>0</td>\n",
       "      <td>0</td>\n",
       "      <td>450</td>\n",
       "      <td>9</td>\n",
       "      <td>1</td>\n",
       "      <td>7</td>\n",
       "      <td>0</td>\n",
       "      <td>0</td>\n",
       "      <td>0</td>\n",
       "      <td>0</td>\n",
       "      <td>2</td>\n",
       "      <td>5</td>\n",
       "      <td>0</td>\n",
       "      <td>660</td>\n",
       "      <td>Kosovo</td>\n",
       "      <td>1</td>\n",
       "    </tr>\n",
       "    <tr>\n",
       "      <th>3</th>\n",
       "      <td>Claudio Bravo</td>\n",
       "      <td>1320000.0</td>\n",
       "      <td>16500000.0</td>\n",
       "      <td>Manchester City</td>\n",
       "      <td>Goalkeeper</td>\n",
       "      <td>Goalkeeper</td>\n",
       "      <td>0</td>\n",
       "      <td>37.0</td>\n",
       "      <td>1.84</td>\n",
       "      <td>England</td>\n",
       "      <td>right</td>\n",
       "      <td>unknown</td>\n",
       "      <td>adidas</td>\n",
       "      <td>Premier League</td>\n",
       "      <td>0</td>\n",
       "      <td>24.08.2020</td>\n",
       "      <td>17</td>\n",
       "      <td>0</td>\n",
       "      <td>0</td>\n",
       "      <td>0</td>\n",
       "      <td>0</td>\n",
       "      <td>1</td>\n",
       "      <td>1461</td>\n",
       "      <td>16</td>\n",
       "      <td>5</td>\n",
       "      <td>1</td>\n",
       "      <td>0</td>\n",
       "      <td>0</td>\n",
       "      <td>0</td>\n",
       "      <td>0</td>\n",
       "      <td>0</td>\n",
       "      <td>1</td>\n",
       "      <td>0</td>\n",
       "      <td>90</td>\n",
       "      <td>Chile</td>\n",
       "      <td>1</td>\n",
       "    </tr>\n",
       "    <tr>\n",
       "      <th>4</th>\n",
       "      <td>Scott Carson</td>\n",
       "      <td>880000.0</td>\n",
       "      <td>6600000.0</td>\n",
       "      <td>Manchester City</td>\n",
       "      <td>Goalkeeper</td>\n",
       "      <td>Goalkeeper</td>\n",
       "      <td>0</td>\n",
       "      <td>34.0</td>\n",
       "      <td>1.88</td>\n",
       "      <td>England</td>\n",
       "      <td>right</td>\n",
       "      <td>Wasserman</td>\n",
       "      <td>unknown</td>\n",
       "      <td>Premier League</td>\n",
       "      <td>1</td>\n",
       "      <td>31.05.2021</td>\n",
       "      <td>0</td>\n",
       "      <td>0</td>\n",
       "      <td>0</td>\n",
       "      <td>0</td>\n",
       "      <td>0</td>\n",
       "      <td>0</td>\n",
       "      <td>0</td>\n",
       "      <td>0</td>\n",
       "      <td>0</td>\n",
       "      <td>33</td>\n",
       "      <td>0</td>\n",
       "      <td>1</td>\n",
       "      <td>0</td>\n",
       "      <td>0</td>\n",
       "      <td>45</td>\n",
       "      <td>6</td>\n",
       "      <td>0</td>\n",
       "      <td>2970</td>\n",
       "      <td>England</td>\n",
       "      <td>0</td>\n",
       "    </tr>\n",
       "  </tbody>\n",
       "</table>\n",
       "</div>"
      ],
      "text/plain": [
       "       short_name  latest_market_value  highest_market_value     current_club  \\\n",
       "0         Ederson           61600000.0            77000000.0  Manchester City   \n",
       "1    Zack Steffen            6600000.0            11000000.0  Manchester City   \n",
       "2  Arijanet Muric            1980000.0             2200000.0  Manchester City   \n",
       "3   Claudio Bravo            1320000.0            16500000.0  Manchester City   \n",
       "4    Scott Carson             880000.0             6600000.0  Manchester City   \n",
       "\n",
       "     position main_position  secondary_position   age  height league_country  \\\n",
       "0  Goalkeeper    Goalkeeper                   0  27.0    1.88        England   \n",
       "1  Goalkeeper    Goalkeeper                   0  25.0    1.91        England   \n",
       "2  Goalkeeper    Goalkeeper                   0  21.0    1.98        England   \n",
       "3  Goalkeeper    Goalkeeper                   0  37.0    1.84        England   \n",
       "4  Goalkeeper    Goalkeeper                   0  34.0    1.88        England   \n",
       "\n",
       "    foot player_agent outfitter          league  on_loan_from  \\\n",
       "0   left    Gestifute      Nike  Premier League             0   \n",
       "1  right    Wasserman   unknown  Premier League             0   \n",
       "2  right       11WINS   unknown  Premier League             0   \n",
       "3  right      unknown    adidas  Premier League             0   \n",
       "4  right    Wasserman   unknown  Premier League             1   \n",
       "\n",
       "  contract_expires  appearances  goals  assists  yellow  second_yellow  red  \\\n",
       "0       30.06.2025           44      0        0       3              0    1   \n",
       "1                0           18      0        0       0              0    0   \n",
       "2       30.06.2024            5      0        0       0              0    0   \n",
       "3       24.08.2020           17      0        0       0              0    1   \n",
       "4       31.05.2021            0      0        0       0              0    0   \n",
       "\n",
       "   minutes_played  goals_conceded  clean_sheets  last_appearances  last_goals  \\\n",
       "0            3837              37            20                55           0   \n",
       "1            1650              37             2                13           0   \n",
       "2             450               9             1                 7           0   \n",
       "3            1461              16             5                 1           0   \n",
       "4               0               0             0                33           0   \n",
       "\n",
       "   last_yellow  last_second_yellow  last_red  last_goals_conceded  \\\n",
       "0            3                   0         0                   38   \n",
       "1            0                   0         0                   17   \n",
       "2            0                   0         0                    2   \n",
       "3            0                   0         0                    0   \n",
       "4            1                   0         0                   45   \n",
       "\n",
       "   last_clean_sheets  last_assists  last_minutes_played        country  \\\n",
       "0                 28             0                 4980         Brazil   \n",
       "1                  4             0                 1170  United States   \n",
       "2                  5             0                  660         Kosovo   \n",
       "3                  1             0                   90          Chile   \n",
       "4                  6             0                 2970        England   \n",
       "\n",
       "   country_2  \n",
       "0          1  \n",
       "1          0  \n",
       "2          1  \n",
       "3          1  \n",
       "4          0  "
      ]
     },
     "execution_count": 3,
     "metadata": {},
     "output_type": "execute_result"
    }
   ],
   "source": [
    "pd.options.display.max_columns = None\n",
    "df.head()"
   ]
  },
  {
   "cell_type": "code",
   "execution_count": 4,
   "metadata": {},
   "outputs": [],
   "source": [
    "#Creating per game metrics and sent off stat\n",
    "\n",
    "df['goals_per_game'] = df['goals'] / df['appearances']\n",
    "df['assists_per_game'] = df['assists'] / df['appearances']\n",
    "df['minutes_per_game'] = df['minutes_played'] / df['appearances']\n",
    "df['sent_off'] = df['second_yellow'] + df['red']\n",
    "df['goalsconceded_per_game'] = df['goals_conceded'] / df['appearances']\n",
    "\n",
    "#Same thing with last season\n",
    "\n",
    "df['last_goals_per_game'] = df['last_goals'] / df['last_appearances']\n",
    "df['last_assists_per_game'] = df['last_assists'] / df['last_appearances']\n",
    "df['last_minutes_per_game'] = df['last_minutes_played'] / df['last_appearances']\n",
    "df['last_sent_off'] = df['last_second_yellow'] + df['last_red']\n",
    "df['last_goalsconceded_per_game'] = df['last_goals_conceded'] / df['last_appearances']\n",
    "\n",
    "new_metrics = ['goals_per_game', \n",
    "    'assists_per_game', 'minutes_per_game', 'goalsconceded_per_game','sent_off', \n",
    "               'last_goals_per_game', 'last_assists_per_game', 'last_minutes_per_game', \n",
    "    'last_sent_off', 'last_goalsconceded_per_game']\n",
    "\n",
    "df[new_metrics] = df[new_metrics].fillna(0)\n",
    "new_metrics.remove('sent_off')\n",
    "new_metrics.remove('last_sent_off')"
   ]
  },
  {
   "cell_type": "code",
   "execution_count": 5,
   "metadata": {},
   "outputs": [
    {
     "data": {
      "text/html": [
       "<div>\n",
       "<style scoped>\n",
       "    .dataframe tbody tr th:only-of-type {\n",
       "        vertical-align: middle;\n",
       "    }\n",
       "\n",
       "    .dataframe tbody tr th {\n",
       "        vertical-align: top;\n",
       "    }\n",
       "\n",
       "    .dataframe thead th {\n",
       "        text-align: right;\n",
       "    }\n",
       "</style>\n",
       "<table border=\"1\" class=\"dataframe\">\n",
       "  <thead>\n",
       "    <tr style=\"text-align: right;\">\n",
       "      <th></th>\n",
       "      <th>short_name</th>\n",
       "      <th>latest_market_value</th>\n",
       "      <th>highest_market_value</th>\n",
       "      <th>current_club</th>\n",
       "      <th>position</th>\n",
       "      <th>main_position</th>\n",
       "      <th>secondary_position</th>\n",
       "      <th>age</th>\n",
       "      <th>height</th>\n",
       "      <th>league_country</th>\n",
       "      <th>foot</th>\n",
       "      <th>player_agent</th>\n",
       "      <th>outfitter</th>\n",
       "      <th>league</th>\n",
       "      <th>on_loan_from</th>\n",
       "      <th>contract_expires</th>\n",
       "      <th>appearances</th>\n",
       "      <th>goals</th>\n",
       "      <th>assists</th>\n",
       "      <th>yellow</th>\n",
       "      <th>second_yellow</th>\n",
       "      <th>red</th>\n",
       "      <th>minutes_played</th>\n",
       "      <th>goals_conceded</th>\n",
       "      <th>clean_sheets</th>\n",
       "      <th>last_appearances</th>\n",
       "      <th>last_goals</th>\n",
       "      <th>last_yellow</th>\n",
       "      <th>last_second_yellow</th>\n",
       "      <th>last_red</th>\n",
       "      <th>last_goals_conceded</th>\n",
       "      <th>last_clean_sheets</th>\n",
       "      <th>last_assists</th>\n",
       "      <th>last_minutes_played</th>\n",
       "      <th>country</th>\n",
       "      <th>country_2</th>\n",
       "      <th>goals_per_game</th>\n",
       "      <th>assists_per_game</th>\n",
       "      <th>minutes_per_game</th>\n",
       "      <th>sent_off</th>\n",
       "      <th>goalsconceded_per_game</th>\n",
       "      <th>last_goals_per_game</th>\n",
       "      <th>last_assists_per_game</th>\n",
       "      <th>last_minutes_per_game</th>\n",
       "      <th>last_sent_off</th>\n",
       "      <th>last_goalsconceded_per_game</th>\n",
       "    </tr>\n",
       "  </thead>\n",
       "  <tbody>\n",
       "    <tr>\n",
       "      <th>0</th>\n",
       "      <td>Ederson</td>\n",
       "      <td>61600000.0</td>\n",
       "      <td>77000000.0</td>\n",
       "      <td>Manchester City</td>\n",
       "      <td>Goalkeeper</td>\n",
       "      <td>Goalkeeper</td>\n",
       "      <td>0</td>\n",
       "      <td>27.0</td>\n",
       "      <td>1.88</td>\n",
       "      <td>England</td>\n",
       "      <td>left</td>\n",
       "      <td>Gestifute</td>\n",
       "      <td>Nike</td>\n",
       "      <td>Premier League</td>\n",
       "      <td>0</td>\n",
       "      <td>30.06.2025</td>\n",
       "      <td>44</td>\n",
       "      <td>0</td>\n",
       "      <td>0</td>\n",
       "      <td>3</td>\n",
       "      <td>0</td>\n",
       "      <td>1</td>\n",
       "      <td>3837</td>\n",
       "      <td>37</td>\n",
       "      <td>20</td>\n",
       "      <td>55</td>\n",
       "      <td>0</td>\n",
       "      <td>3</td>\n",
       "      <td>0</td>\n",
       "      <td>0</td>\n",
       "      <td>38</td>\n",
       "      <td>28</td>\n",
       "      <td>0</td>\n",
       "      <td>4980</td>\n",
       "      <td>Brazil</td>\n",
       "      <td>1</td>\n",
       "      <td>0.0</td>\n",
       "      <td>0.0</td>\n",
       "      <td>87.204545</td>\n",
       "      <td>1</td>\n",
       "      <td>0.840909</td>\n",
       "      <td>0.0</td>\n",
       "      <td>0.0</td>\n",
       "      <td>90.545455</td>\n",
       "      <td>0</td>\n",
       "      <td>0.690909</td>\n",
       "    </tr>\n",
       "    <tr>\n",
       "      <th>1</th>\n",
       "      <td>Zack Steffen</td>\n",
       "      <td>6600000.0</td>\n",
       "      <td>11000000.0</td>\n",
       "      <td>Manchester City</td>\n",
       "      <td>Goalkeeper</td>\n",
       "      <td>Goalkeeper</td>\n",
       "      <td>0</td>\n",
       "      <td>25.0</td>\n",
       "      <td>1.91</td>\n",
       "      <td>England</td>\n",
       "      <td>right</td>\n",
       "      <td>Wasserman</td>\n",
       "      <td>unknown</td>\n",
       "      <td>Premier League</td>\n",
       "      <td>0</td>\n",
       "      <td>0</td>\n",
       "      <td>18</td>\n",
       "      <td>0</td>\n",
       "      <td>0</td>\n",
       "      <td>0</td>\n",
       "      <td>0</td>\n",
       "      <td>0</td>\n",
       "      <td>1650</td>\n",
       "      <td>37</td>\n",
       "      <td>2</td>\n",
       "      <td>13</td>\n",
       "      <td>0</td>\n",
       "      <td>0</td>\n",
       "      <td>0</td>\n",
       "      <td>0</td>\n",
       "      <td>17</td>\n",
       "      <td>4</td>\n",
       "      <td>0</td>\n",
       "      <td>1170</td>\n",
       "      <td>United States</td>\n",
       "      <td>0</td>\n",
       "      <td>0.0</td>\n",
       "      <td>0.0</td>\n",
       "      <td>91.666667</td>\n",
       "      <td>0</td>\n",
       "      <td>2.055556</td>\n",
       "      <td>0.0</td>\n",
       "      <td>0.0</td>\n",
       "      <td>90.000000</td>\n",
       "      <td>0</td>\n",
       "      <td>1.307692</td>\n",
       "    </tr>\n",
       "    <tr>\n",
       "      <th>2</th>\n",
       "      <td>Arijanet Muric</td>\n",
       "      <td>1980000.0</td>\n",
       "      <td>2200000.0</td>\n",
       "      <td>Manchester City</td>\n",
       "      <td>Goalkeeper</td>\n",
       "      <td>Goalkeeper</td>\n",
       "      <td>0</td>\n",
       "      <td>21.0</td>\n",
       "      <td>1.98</td>\n",
       "      <td>England</td>\n",
       "      <td>right</td>\n",
       "      <td>11WINS</td>\n",
       "      <td>unknown</td>\n",
       "      <td>Premier League</td>\n",
       "      <td>0</td>\n",
       "      <td>30.06.2024</td>\n",
       "      <td>5</td>\n",
       "      <td>0</td>\n",
       "      <td>0</td>\n",
       "      <td>0</td>\n",
       "      <td>0</td>\n",
       "      <td>0</td>\n",
       "      <td>450</td>\n",
       "      <td>9</td>\n",
       "      <td>1</td>\n",
       "      <td>7</td>\n",
       "      <td>0</td>\n",
       "      <td>0</td>\n",
       "      <td>0</td>\n",
       "      <td>0</td>\n",
       "      <td>2</td>\n",
       "      <td>5</td>\n",
       "      <td>0</td>\n",
       "      <td>660</td>\n",
       "      <td>Kosovo</td>\n",
       "      <td>1</td>\n",
       "      <td>0.0</td>\n",
       "      <td>0.0</td>\n",
       "      <td>90.000000</td>\n",
       "      <td>0</td>\n",
       "      <td>1.800000</td>\n",
       "      <td>0.0</td>\n",
       "      <td>0.0</td>\n",
       "      <td>94.285714</td>\n",
       "      <td>0</td>\n",
       "      <td>0.285714</td>\n",
       "    </tr>\n",
       "    <tr>\n",
       "      <th>3</th>\n",
       "      <td>Claudio Bravo</td>\n",
       "      <td>1320000.0</td>\n",
       "      <td>16500000.0</td>\n",
       "      <td>Manchester City</td>\n",
       "      <td>Goalkeeper</td>\n",
       "      <td>Goalkeeper</td>\n",
       "      <td>0</td>\n",
       "      <td>37.0</td>\n",
       "      <td>1.84</td>\n",
       "      <td>England</td>\n",
       "      <td>right</td>\n",
       "      <td>unknown</td>\n",
       "      <td>adidas</td>\n",
       "      <td>Premier League</td>\n",
       "      <td>0</td>\n",
       "      <td>24.08.2020</td>\n",
       "      <td>17</td>\n",
       "      <td>0</td>\n",
       "      <td>0</td>\n",
       "      <td>0</td>\n",
       "      <td>0</td>\n",
       "      <td>1</td>\n",
       "      <td>1461</td>\n",
       "      <td>16</td>\n",
       "      <td>5</td>\n",
       "      <td>1</td>\n",
       "      <td>0</td>\n",
       "      <td>0</td>\n",
       "      <td>0</td>\n",
       "      <td>0</td>\n",
       "      <td>0</td>\n",
       "      <td>1</td>\n",
       "      <td>0</td>\n",
       "      <td>90</td>\n",
       "      <td>Chile</td>\n",
       "      <td>1</td>\n",
       "      <td>0.0</td>\n",
       "      <td>0.0</td>\n",
       "      <td>85.941176</td>\n",
       "      <td>1</td>\n",
       "      <td>0.941176</td>\n",
       "      <td>0.0</td>\n",
       "      <td>0.0</td>\n",
       "      <td>90.000000</td>\n",
       "      <td>0</td>\n",
       "      <td>0.000000</td>\n",
       "    </tr>\n",
       "    <tr>\n",
       "      <th>4</th>\n",
       "      <td>Scott Carson</td>\n",
       "      <td>880000.0</td>\n",
       "      <td>6600000.0</td>\n",
       "      <td>Manchester City</td>\n",
       "      <td>Goalkeeper</td>\n",
       "      <td>Goalkeeper</td>\n",
       "      <td>0</td>\n",
       "      <td>34.0</td>\n",
       "      <td>1.88</td>\n",
       "      <td>England</td>\n",
       "      <td>right</td>\n",
       "      <td>Wasserman</td>\n",
       "      <td>unknown</td>\n",
       "      <td>Premier League</td>\n",
       "      <td>1</td>\n",
       "      <td>31.05.2021</td>\n",
       "      <td>0</td>\n",
       "      <td>0</td>\n",
       "      <td>0</td>\n",
       "      <td>0</td>\n",
       "      <td>0</td>\n",
       "      <td>0</td>\n",
       "      <td>0</td>\n",
       "      <td>0</td>\n",
       "      <td>0</td>\n",
       "      <td>33</td>\n",
       "      <td>0</td>\n",
       "      <td>1</td>\n",
       "      <td>0</td>\n",
       "      <td>0</td>\n",
       "      <td>45</td>\n",
       "      <td>6</td>\n",
       "      <td>0</td>\n",
       "      <td>2970</td>\n",
       "      <td>England</td>\n",
       "      <td>0</td>\n",
       "      <td>0.0</td>\n",
       "      <td>0.0</td>\n",
       "      <td>0.000000</td>\n",
       "      <td>0</td>\n",
       "      <td>0.000000</td>\n",
       "      <td>0.0</td>\n",
       "      <td>0.0</td>\n",
       "      <td>90.000000</td>\n",
       "      <td>0</td>\n",
       "      <td>1.363636</td>\n",
       "    </tr>\n",
       "  </tbody>\n",
       "</table>\n",
       "</div>"
      ],
      "text/plain": [
       "       short_name  latest_market_value  highest_market_value     current_club  \\\n",
       "0         Ederson           61600000.0            77000000.0  Manchester City   \n",
       "1    Zack Steffen            6600000.0            11000000.0  Manchester City   \n",
       "2  Arijanet Muric            1980000.0             2200000.0  Manchester City   \n",
       "3   Claudio Bravo            1320000.0            16500000.0  Manchester City   \n",
       "4    Scott Carson             880000.0             6600000.0  Manchester City   \n",
       "\n",
       "     position main_position  secondary_position   age  height league_country  \\\n",
       "0  Goalkeeper    Goalkeeper                   0  27.0    1.88        England   \n",
       "1  Goalkeeper    Goalkeeper                   0  25.0    1.91        England   \n",
       "2  Goalkeeper    Goalkeeper                   0  21.0    1.98        England   \n",
       "3  Goalkeeper    Goalkeeper                   0  37.0    1.84        England   \n",
       "4  Goalkeeper    Goalkeeper                   0  34.0    1.88        England   \n",
       "\n",
       "    foot player_agent outfitter          league  on_loan_from  \\\n",
       "0   left    Gestifute      Nike  Premier League             0   \n",
       "1  right    Wasserman   unknown  Premier League             0   \n",
       "2  right       11WINS   unknown  Premier League             0   \n",
       "3  right      unknown    adidas  Premier League             0   \n",
       "4  right    Wasserman   unknown  Premier League             1   \n",
       "\n",
       "  contract_expires  appearances  goals  assists  yellow  second_yellow  red  \\\n",
       "0       30.06.2025           44      0        0       3              0    1   \n",
       "1                0           18      0        0       0              0    0   \n",
       "2       30.06.2024            5      0        0       0              0    0   \n",
       "3       24.08.2020           17      0        0       0              0    1   \n",
       "4       31.05.2021            0      0        0       0              0    0   \n",
       "\n",
       "   minutes_played  goals_conceded  clean_sheets  last_appearances  last_goals  \\\n",
       "0            3837              37            20                55           0   \n",
       "1            1650              37             2                13           0   \n",
       "2             450               9             1                 7           0   \n",
       "3            1461              16             5                 1           0   \n",
       "4               0               0             0                33           0   \n",
       "\n",
       "   last_yellow  last_second_yellow  last_red  last_goals_conceded  \\\n",
       "0            3                   0         0                   38   \n",
       "1            0                   0         0                   17   \n",
       "2            0                   0         0                    2   \n",
       "3            0                   0         0                    0   \n",
       "4            1                   0         0                   45   \n",
       "\n",
       "   last_clean_sheets  last_assists  last_minutes_played        country  \\\n",
       "0                 28             0                 4980         Brazil   \n",
       "1                  4             0                 1170  United States   \n",
       "2                  5             0                  660         Kosovo   \n",
       "3                  1             0                   90          Chile   \n",
       "4                  6             0                 2970        England   \n",
       "\n",
       "   country_2  goals_per_game  assists_per_game  minutes_per_game  sent_off  \\\n",
       "0          1             0.0               0.0         87.204545         1   \n",
       "1          0             0.0               0.0         91.666667         0   \n",
       "2          1             0.0               0.0         90.000000         0   \n",
       "3          1             0.0               0.0         85.941176         1   \n",
       "4          0             0.0               0.0          0.000000         0   \n",
       "\n",
       "   goalsconceded_per_game  last_goals_per_game  last_assists_per_game  \\\n",
       "0                0.840909                  0.0                    0.0   \n",
       "1                2.055556                  0.0                    0.0   \n",
       "2                1.800000                  0.0                    0.0   \n",
       "3                0.941176                  0.0                    0.0   \n",
       "4                0.000000                  0.0                    0.0   \n",
       "\n",
       "   last_minutes_per_game  last_sent_off  last_goalsconceded_per_game  \n",
       "0              90.545455              0                     0.690909  \n",
       "1              90.000000              0                     1.307692  \n",
       "2              94.285714              0                     0.285714  \n",
       "3              90.000000              0                     0.000000  \n",
       "4              90.000000              0                     1.363636  "
      ]
     },
     "execution_count": 5,
     "metadata": {},
     "output_type": "execute_result"
    }
   ],
   "source": [
    "pd.options.display.max_columns = None\n",
    "df.head()"
   ]
  },
  {
   "cell_type": "code",
   "execution_count": 6,
   "metadata": {},
   "outputs": [
    {
     "name": "stdout",
     "output_type": "stream",
     "text": [
      "<class 'pandas.core.frame.DataFrame'>\n",
      "RangeIndex: 9340 entries, 0 to 9339\n",
      "Data columns (total 46 columns):\n",
      " #   Column                       Non-Null Count  Dtype  \n",
      "---  ------                       --------------  -----  \n",
      " 0   short_name                   9340 non-null   object \n",
      " 1   latest_market_value          9340 non-null   float64\n",
      " 2   highest_market_value         9340 non-null   float64\n",
      " 3   current_club                 9340 non-null   object \n",
      " 4   position                     9340 non-null   object \n",
      " 5   main_position                9340 non-null   object \n",
      " 6   secondary_position           9340 non-null   int64  \n",
      " 7   age                          9340 non-null   float64\n",
      " 8   height                       9340 non-null   float64\n",
      " 9   league_country               9340 non-null   object \n",
      " 10  foot                         9340 non-null   object \n",
      " 11  player_agent                 9340 non-null   object \n",
      " 12  outfitter                    9340 non-null   object \n",
      " 13  league                       9340 non-null   object \n",
      " 14  on_loan_from                 9340 non-null   int64  \n",
      " 15  contract_expires             9340 non-null   object \n",
      " 16  appearances                  9340 non-null   int64  \n",
      " 17  goals                        9340 non-null   int64  \n",
      " 18  assists                      9340 non-null   int64  \n",
      " 19  yellow                       9340 non-null   int64  \n",
      " 20  second_yellow                9340 non-null   int64  \n",
      " 21  red                          9340 non-null   int64  \n",
      " 22  minutes_played               9340 non-null   int64  \n",
      " 23  goals_conceded               9340 non-null   int64  \n",
      " 24  clean_sheets                 9340 non-null   int64  \n",
      " 25  last_appearances             9340 non-null   int64  \n",
      " 26  last_goals                   9340 non-null   int64  \n",
      " 27  last_yellow                  9340 non-null   int64  \n",
      " 28  last_second_yellow           9340 non-null   int64  \n",
      " 29  last_red                     9340 non-null   int64  \n",
      " 30  last_goals_conceded          9340 non-null   int64  \n",
      " 31  last_clean_sheets            9340 non-null   int64  \n",
      " 32  last_assists                 9340 non-null   int64  \n",
      " 33  last_minutes_played          9340 non-null   int64  \n",
      " 34  country                      9340 non-null   object \n",
      " 35  country_2                    9340 non-null   int64  \n",
      " 36  goals_per_game               9340 non-null   float64\n",
      " 37  assists_per_game             9340 non-null   float64\n",
      " 38  minutes_per_game             9340 non-null   float64\n",
      " 39  sent_off                     9340 non-null   int64  \n",
      " 40  goalsconceded_per_game       9340 non-null   float64\n",
      " 41  last_goals_per_game          9340 non-null   float64\n",
      " 42  last_assists_per_game        9340 non-null   float64\n",
      " 43  last_minutes_per_game        9340 non-null   float64\n",
      " 44  last_sent_off                9340 non-null   int64  \n",
      " 45  last_goalsconceded_per_game  9340 non-null   float64\n",
      "dtypes: float64(12), int64(23), object(11)\n",
      "memory usage: 3.3+ MB\n"
     ]
    }
   ],
   "source": [
    "df.info()"
   ]
  },
  {
   "cell_type": "code",
   "execution_count": 7,
   "metadata": {},
   "outputs": [
    {
     "data": {
      "text/plain": [
       "0.0"
      ]
     },
     "execution_count": 7,
     "metadata": {},
     "output_type": "execute_result"
    }
   ],
   "source": [
    "#Attesting there are no null values\n",
    "df.isna().mean().sort_values().sum()"
   ]
  },
  {
   "cell_type": "code",
   "execution_count": 8,
   "metadata": {},
   "outputs": [
    {
     "data": {
      "text/html": [
       "<div>\n",
       "<style scoped>\n",
       "    .dataframe tbody tr th:only-of-type {\n",
       "        vertical-align: middle;\n",
       "    }\n",
       "\n",
       "    .dataframe tbody tr th {\n",
       "        vertical-align: top;\n",
       "    }\n",
       "\n",
       "    .dataframe thead th {\n",
       "        text-align: right;\n",
       "    }\n",
       "</style>\n",
       "<table border=\"1\" class=\"dataframe\">\n",
       "  <thead>\n",
       "    <tr style=\"text-align: right;\">\n",
       "      <th></th>\n",
       "      <th>latest_market_value</th>\n",
       "      <th>highest_market_value</th>\n",
       "      <th>secondary_position</th>\n",
       "      <th>age</th>\n",
       "      <th>height</th>\n",
       "      <th>on_loan_from</th>\n",
       "      <th>appearances</th>\n",
       "      <th>goals</th>\n",
       "      <th>assists</th>\n",
       "      <th>yellow</th>\n",
       "      <th>second_yellow</th>\n",
       "      <th>red</th>\n",
       "      <th>minutes_played</th>\n",
       "      <th>goals_conceded</th>\n",
       "      <th>clean_sheets</th>\n",
       "      <th>last_appearances</th>\n",
       "      <th>last_goals</th>\n",
       "      <th>last_yellow</th>\n",
       "      <th>last_second_yellow</th>\n",
       "      <th>last_red</th>\n",
       "      <th>last_goals_conceded</th>\n",
       "      <th>last_clean_sheets</th>\n",
       "      <th>last_assists</th>\n",
       "      <th>last_minutes_played</th>\n",
       "      <th>country_2</th>\n",
       "      <th>goals_per_game</th>\n",
       "      <th>assists_per_game</th>\n",
       "      <th>minutes_per_game</th>\n",
       "      <th>sent_off</th>\n",
       "      <th>goalsconceded_per_game</th>\n",
       "      <th>last_goals_per_game</th>\n",
       "      <th>last_assists_per_game</th>\n",
       "      <th>last_minutes_per_game</th>\n",
       "      <th>last_sent_off</th>\n",
       "      <th>last_goalsconceded_per_game</th>\n",
       "    </tr>\n",
       "  </thead>\n",
       "  <tbody>\n",
       "    <tr>\n",
       "      <th>count</th>\n",
       "      <td>9.340000e+03</td>\n",
       "      <td>9.340000e+03</td>\n",
       "      <td>9340.00</td>\n",
       "      <td>9340.00</td>\n",
       "      <td>9340.00</td>\n",
       "      <td>9340.00</td>\n",
       "      <td>9340.00</td>\n",
       "      <td>9340.00</td>\n",
       "      <td>9340.00</td>\n",
       "      <td>9340.00</td>\n",
       "      <td>9340.00</td>\n",
       "      <td>9340.00</td>\n",
       "      <td>9340.00</td>\n",
       "      <td>9340.00</td>\n",
       "      <td>9340.00</td>\n",
       "      <td>9340.00</td>\n",
       "      <td>9340.00</td>\n",
       "      <td>9340.00</td>\n",
       "      <td>9340.00</td>\n",
       "      <td>9340.00</td>\n",
       "      <td>9340.00</td>\n",
       "      <td>9340.00</td>\n",
       "      <td>9340.00</td>\n",
       "      <td>9340.00</td>\n",
       "      <td>9340.00</td>\n",
       "      <td>9340.00</td>\n",
       "      <td>9340.00</td>\n",
       "      <td>9340.00</td>\n",
       "      <td>9340.00</td>\n",
       "      <td>9340.00</td>\n",
       "      <td>9340.00</td>\n",
       "      <td>9340.00</td>\n",
       "      <td>9340.00</td>\n",
       "      <td>9340.00</td>\n",
       "      <td>9340.00</td>\n",
       "    </tr>\n",
       "    <tr>\n",
       "      <th>mean</th>\n",
       "      <td>3.889939e+06</td>\n",
       "      <td>5.993441e+06</td>\n",
       "      <td>0.74</td>\n",
       "      <td>25.77</td>\n",
       "      <td>1.83</td>\n",
       "      <td>0.04</td>\n",
       "      <td>21.55</td>\n",
       "      <td>2.40</td>\n",
       "      <td>1.76</td>\n",
       "      <td>3.18</td>\n",
       "      <td>0.10</td>\n",
       "      <td>0.07</td>\n",
       "      <td>1548.25</td>\n",
       "      <td>2.18</td>\n",
       "      <td>0.48</td>\n",
       "      <td>24.31</td>\n",
       "      <td>2.91</td>\n",
       "      <td>3.43</td>\n",
       "      <td>0.10</td>\n",
       "      <td>0.08</td>\n",
       "      <td>2.46</td>\n",
       "      <td>0.61</td>\n",
       "      <td>2.03</td>\n",
       "      <td>1801.84</td>\n",
       "      <td>0.23</td>\n",
       "      <td>0.09</td>\n",
       "      <td>0.07</td>\n",
       "      <td>66.31</td>\n",
       "      <td>0.16</td>\n",
       "      <td>0.13</td>\n",
       "      <td>0.10</td>\n",
       "      <td>0.07</td>\n",
       "      <td>68.37</td>\n",
       "      <td>0.18</td>\n",
       "      <td>0.12</td>\n",
       "    </tr>\n",
       "    <tr>\n",
       "      <th>std</th>\n",
       "      <td>1.007317e+07</td>\n",
       "      <td>1.383238e+07</td>\n",
       "      <td>0.44</td>\n",
       "      <td>4.35</td>\n",
       "      <td>0.07</td>\n",
       "      <td>0.21</td>\n",
       "      <td>11.86</td>\n",
       "      <td>3.94</td>\n",
       "      <td>2.61</td>\n",
       "      <td>2.95</td>\n",
       "      <td>0.32</td>\n",
       "      <td>0.27</td>\n",
       "      <td>996.32</td>\n",
       "      <td>8.58</td>\n",
       "      <td>2.08</td>\n",
       "      <td>12.48</td>\n",
       "      <td>4.49</td>\n",
       "      <td>3.09</td>\n",
       "      <td>0.32</td>\n",
       "      <td>0.29</td>\n",
       "      <td>9.40</td>\n",
       "      <td>2.54</td>\n",
       "      <td>2.85</td>\n",
       "      <td>1073.04</td>\n",
       "      <td>0.42</td>\n",
       "      <td>0.13</td>\n",
       "      <td>0.09</td>\n",
       "      <td>23.04</td>\n",
       "      <td>0.42</td>\n",
       "      <td>0.44</td>\n",
       "      <td>0.14</td>\n",
       "      <td>0.09</td>\n",
       "      <td>22.87</td>\n",
       "      <td>0.44</td>\n",
       "      <td>0.41</td>\n",
       "    </tr>\n",
       "    <tr>\n",
       "      <th>min</th>\n",
       "      <td>1.100000e+05</td>\n",
       "      <td>1.100000e+05</td>\n",
       "      <td>0.00</td>\n",
       "      <td>15.00</td>\n",
       "      <td>1.59</td>\n",
       "      <td>0.00</td>\n",
       "      <td>0.00</td>\n",
       "      <td>0.00</td>\n",
       "      <td>0.00</td>\n",
       "      <td>0.00</td>\n",
       "      <td>0.00</td>\n",
       "      <td>0.00</td>\n",
       "      <td>0.00</td>\n",
       "      <td>0.00</td>\n",
       "      <td>0.00</td>\n",
       "      <td>0.00</td>\n",
       "      <td>0.00</td>\n",
       "      <td>0.00</td>\n",
       "      <td>0.00</td>\n",
       "      <td>0.00</td>\n",
       "      <td>0.00</td>\n",
       "      <td>0.00</td>\n",
       "      <td>0.00</td>\n",
       "      <td>0.00</td>\n",
       "      <td>0.00</td>\n",
       "      <td>0.00</td>\n",
       "      <td>0.00</td>\n",
       "      <td>0.00</td>\n",
       "      <td>0.00</td>\n",
       "      <td>0.00</td>\n",
       "      <td>0.00</td>\n",
       "      <td>0.00</td>\n",
       "      <td>0.00</td>\n",
       "      <td>0.00</td>\n",
       "      <td>0.00</td>\n",
       "    </tr>\n",
       "    <tr>\n",
       "      <th>25%</th>\n",
       "      <td>3.300000e+05</td>\n",
       "      <td>4.400000e+05</td>\n",
       "      <td>0.00</td>\n",
       "      <td>22.00</td>\n",
       "      <td>1.78</td>\n",
       "      <td>0.00</td>\n",
       "      <td>13.00</td>\n",
       "      <td>0.00</td>\n",
       "      <td>0.00</td>\n",
       "      <td>1.00</td>\n",
       "      <td>0.00</td>\n",
       "      <td>0.00</td>\n",
       "      <td>737.00</td>\n",
       "      <td>0.00</td>\n",
       "      <td>0.00</td>\n",
       "      <td>16.00</td>\n",
       "      <td>0.00</td>\n",
       "      <td>1.00</td>\n",
       "      <td>0.00</td>\n",
       "      <td>0.00</td>\n",
       "      <td>0.00</td>\n",
       "      <td>0.00</td>\n",
       "      <td>0.00</td>\n",
       "      <td>966.75</td>\n",
       "      <td>0.00</td>\n",
       "      <td>0.00</td>\n",
       "      <td>0.00</td>\n",
       "      <td>54.91</td>\n",
       "      <td>0.00</td>\n",
       "      <td>0.00</td>\n",
       "      <td>0.00</td>\n",
       "      <td>0.00</td>\n",
       "      <td>58.52</td>\n",
       "      <td>0.00</td>\n",
       "      <td>0.00</td>\n",
       "    </tr>\n",
       "    <tr>\n",
       "      <th>50%</th>\n",
       "      <td>6.600000e+05</td>\n",
       "      <td>1.100000e+06</td>\n",
       "      <td>1.00</td>\n",
       "      <td>25.00</td>\n",
       "      <td>1.83</td>\n",
       "      <td>0.00</td>\n",
       "      <td>22.00</td>\n",
       "      <td>1.00</td>\n",
       "      <td>1.00</td>\n",
       "      <td>3.00</td>\n",
       "      <td>0.00</td>\n",
       "      <td>0.00</td>\n",
       "      <td>1486.00</td>\n",
       "      <td>0.00</td>\n",
       "      <td>0.00</td>\n",
       "      <td>26.00</td>\n",
       "      <td>1.00</td>\n",
       "      <td>3.00</td>\n",
       "      <td>0.00</td>\n",
       "      <td>0.00</td>\n",
       "      <td>0.00</td>\n",
       "      <td>0.00</td>\n",
       "      <td>1.00</td>\n",
       "      <td>1825.00</td>\n",
       "      <td>0.00</td>\n",
       "      <td>0.04</td>\n",
       "      <td>0.04</td>\n",
       "      <td>72.71</td>\n",
       "      <td>0.00</td>\n",
       "      <td>0.00</td>\n",
       "      <td>0.05</td>\n",
       "      <td>0.04</td>\n",
       "      <td>75.54</td>\n",
       "      <td>0.00</td>\n",
       "      <td>0.00</td>\n",
       "    </tr>\n",
       "    <tr>\n",
       "      <th>75%</th>\n",
       "      <td>2.640000e+06</td>\n",
       "      <td>4.747500e+06</td>\n",
       "      <td>1.00</td>\n",
       "      <td>29.00</td>\n",
       "      <td>1.87</td>\n",
       "      <td>0.00</td>\n",
       "      <td>30.00</td>\n",
       "      <td>3.00</td>\n",
       "      <td>3.00</td>\n",
       "      <td>5.00</td>\n",
       "      <td>0.00</td>\n",
       "      <td>0.00</td>\n",
       "      <td>2273.00</td>\n",
       "      <td>0.00</td>\n",
       "      <td>0.00</td>\n",
       "      <td>33.00</td>\n",
       "      <td>4.00</td>\n",
       "      <td>5.00</td>\n",
       "      <td>0.00</td>\n",
       "      <td>0.00</td>\n",
       "      <td>0.00</td>\n",
       "      <td>0.00</td>\n",
       "      <td>3.00</td>\n",
       "      <td>2603.00</td>\n",
       "      <td>0.00</td>\n",
       "      <td>0.13</td>\n",
       "      <td>0.11</td>\n",
       "      <td>84.15</td>\n",
       "      <td>0.00</td>\n",
       "      <td>0.00</td>\n",
       "      <td>0.14</td>\n",
       "      <td>0.11</td>\n",
       "      <td>85.57</td>\n",
       "      <td>0.00</td>\n",
       "      <td>0.00</td>\n",
       "    </tr>\n",
       "    <tr>\n",
       "      <th>max</th>\n",
       "      <td>1.980000e+08</td>\n",
       "      <td>2.200000e+08</td>\n",
       "      <td>1.00</td>\n",
       "      <td>42.00</td>\n",
       "      <td>2.04</td>\n",
       "      <td>1.00</td>\n",
       "      <td>57.00</td>\n",
       "      <td>55.00</td>\n",
       "      <td>26.00</td>\n",
       "      <td>20.00</td>\n",
       "      <td>3.00</td>\n",
       "      <td>3.00</td>\n",
       "      <td>5130.00</td>\n",
       "      <td>76.00</td>\n",
       "      <td>29.00</td>\n",
       "      <td>66.00</td>\n",
       "      <td>51.00</td>\n",
       "      <td>21.00</td>\n",
       "      <td>3.00</td>\n",
       "      <td>3.00</td>\n",
       "      <td>85.00</td>\n",
       "      <td>28.00</td>\n",
       "      <td>24.00</td>\n",
       "      <td>5777.00</td>\n",
       "      <td>1.00</td>\n",
       "      <td>1.50</td>\n",
       "      <td>1.00</td>\n",
       "      <td>120.00</td>\n",
       "      <td>3.00</td>\n",
       "      <td>4.00</td>\n",
       "      <td>2.00</td>\n",
       "      <td>2.00</td>\n",
       "      <td>120.00</td>\n",
       "      <td>5.00</td>\n",
       "      <td>5.00</td>\n",
       "    </tr>\n",
       "  </tbody>\n",
       "</table>\n",
       "</div>"
      ],
      "text/plain": [
       "       latest_market_value  highest_market_value  secondary_position      age  \\\n",
       "count         9.340000e+03          9.340000e+03             9340.00  9340.00   \n",
       "mean          3.889939e+06          5.993441e+06                0.74    25.77   \n",
       "std           1.007317e+07          1.383238e+07                0.44     4.35   \n",
       "min           1.100000e+05          1.100000e+05                0.00    15.00   \n",
       "25%           3.300000e+05          4.400000e+05                0.00    22.00   \n",
       "50%           6.600000e+05          1.100000e+06                1.00    25.00   \n",
       "75%           2.640000e+06          4.747500e+06                1.00    29.00   \n",
       "max           1.980000e+08          2.200000e+08                1.00    42.00   \n",
       "\n",
       "        height  on_loan_from  appearances    goals  assists   yellow  \\\n",
       "count  9340.00       9340.00      9340.00  9340.00  9340.00  9340.00   \n",
       "mean      1.83          0.04        21.55     2.40     1.76     3.18   \n",
       "std       0.07          0.21        11.86     3.94     2.61     2.95   \n",
       "min       1.59          0.00         0.00     0.00     0.00     0.00   \n",
       "25%       1.78          0.00        13.00     0.00     0.00     1.00   \n",
       "50%       1.83          0.00        22.00     1.00     1.00     3.00   \n",
       "75%       1.87          0.00        30.00     3.00     3.00     5.00   \n",
       "max       2.04          1.00        57.00    55.00    26.00    20.00   \n",
       "\n",
       "       second_yellow      red  minutes_played  goals_conceded  clean_sheets  \\\n",
       "count        9340.00  9340.00         9340.00         9340.00       9340.00   \n",
       "mean            0.10     0.07         1548.25            2.18          0.48   \n",
       "std             0.32     0.27          996.32            8.58          2.08   \n",
       "min             0.00     0.00            0.00            0.00          0.00   \n",
       "25%             0.00     0.00          737.00            0.00          0.00   \n",
       "50%             0.00     0.00         1486.00            0.00          0.00   \n",
       "75%             0.00     0.00         2273.00            0.00          0.00   \n",
       "max             3.00     3.00         5130.00           76.00         29.00   \n",
       "\n",
       "       last_appearances  last_goals  last_yellow  last_second_yellow  \\\n",
       "count           9340.00     9340.00      9340.00             9340.00   \n",
       "mean              24.31        2.91         3.43                0.10   \n",
       "std               12.48        4.49         3.09                0.32   \n",
       "min                0.00        0.00         0.00                0.00   \n",
       "25%               16.00        0.00         1.00                0.00   \n",
       "50%               26.00        1.00         3.00                0.00   \n",
       "75%               33.00        4.00         5.00                0.00   \n",
       "max               66.00       51.00        21.00                3.00   \n",
       "\n",
       "       last_red  last_goals_conceded  last_clean_sheets  last_assists  \\\n",
       "count   9340.00              9340.00            9340.00       9340.00   \n",
       "mean       0.08                 2.46               0.61          2.03   \n",
       "std        0.29                 9.40               2.54          2.85   \n",
       "min        0.00                 0.00               0.00          0.00   \n",
       "25%        0.00                 0.00               0.00          0.00   \n",
       "50%        0.00                 0.00               0.00          1.00   \n",
       "75%        0.00                 0.00               0.00          3.00   \n",
       "max        3.00                85.00              28.00         24.00   \n",
       "\n",
       "       last_minutes_played  country_2  goals_per_game  assists_per_game  \\\n",
       "count              9340.00    9340.00         9340.00           9340.00   \n",
       "mean               1801.84       0.23            0.09              0.07   \n",
       "std                1073.04       0.42            0.13              0.09   \n",
       "min                   0.00       0.00            0.00              0.00   \n",
       "25%                 966.75       0.00            0.00              0.00   \n",
       "50%                1825.00       0.00            0.04              0.04   \n",
       "75%                2603.00       0.00            0.13              0.11   \n",
       "max                5777.00       1.00            1.50              1.00   \n",
       "\n",
       "       minutes_per_game  sent_off  goalsconceded_per_game  \\\n",
       "count           9340.00   9340.00                 9340.00   \n",
       "mean              66.31      0.16                    0.13   \n",
       "std               23.04      0.42                    0.44   \n",
       "min                0.00      0.00                    0.00   \n",
       "25%               54.91      0.00                    0.00   \n",
       "50%               72.71      0.00                    0.00   \n",
       "75%               84.15      0.00                    0.00   \n",
       "max              120.00      3.00                    4.00   \n",
       "\n",
       "       last_goals_per_game  last_assists_per_game  last_minutes_per_game  \\\n",
       "count              9340.00                9340.00                9340.00   \n",
       "mean                  0.10                   0.07                  68.37   \n",
       "std                   0.14                   0.09                  22.87   \n",
       "min                   0.00                   0.00                   0.00   \n",
       "25%                   0.00                   0.00                  58.52   \n",
       "50%                   0.05                   0.04                  75.54   \n",
       "75%                   0.14                   0.11                  85.57   \n",
       "max                   2.00                   2.00                 120.00   \n",
       "\n",
       "       last_sent_off  last_goalsconceded_per_game  \n",
       "count        9340.00                      9340.00  \n",
       "mean            0.18                         0.12  \n",
       "std             0.44                         0.41  \n",
       "min             0.00                         0.00  \n",
       "25%             0.00                         0.00  \n",
       "50%             0.00                         0.00  \n",
       "75%             0.00                         0.00  \n",
       "max             5.00                         5.00  "
      ]
     },
     "execution_count": 8,
     "metadata": {},
     "output_type": "execute_result"
    }
   ],
   "source": [
    "#Option to see full columns\n",
    "pd.options.display.max_columns = None\n",
    "df.describe().round(2)"
   ]
  },
  {
   "cell_type": "markdown",
   "metadata": {},
   "source": [
    "# Analyzing general stats"
   ]
  },
  {
   "cell_type": "code",
   "execution_count": 9,
   "metadata": {},
   "outputs": [
    {
     "data": {
      "text/plain": [
       "Centre-Back           1610\n",
       "Centre-Forward        1242\n",
       "Central Midfield      1052\n",
       "Goalkeeper             970\n",
       "Right-Back             768\n",
       "Defensive Midfield     767\n",
       "Left-Back              703\n",
       "Left Winger            631\n",
       "Right Winger           601\n",
       "Attacking Midfield     580\n",
       "Right Midfield         174\n",
       "Left Midfield          168\n",
       "Second Striker          74\n",
       "Name: main_position, dtype: int64"
      ]
     },
     "execution_count": 9,
     "metadata": {},
     "output_type": "execute_result"
    }
   ],
   "source": [
    "#How many observations there are for each position\n",
    "df['main_position'].value_counts()"
   ]
  },
  {
   "cell_type": "code",
   "execution_count": 10,
   "metadata": {},
   "outputs": [
    {
     "data": {
      "text/plain": [
       "country\n",
       "France         40877860.0\n",
       "Spain          36783930.0\n",
       "England        31634650.0\n",
       "Brazil         27209510.0\n",
       "Germany        22365400.0\n",
       "Italy          17601480.0\n",
       "Portugal       15593450.0\n",
       "Netherlands    13875700.0\n",
       "Argentina      13247150.0\n",
       "Belgium        11877460.0\n",
       "Name: latest_market_value, dtype: float64"
      ]
     },
     "execution_count": 10,
     "metadata": {},
     "output_type": "execute_result"
    }
   ],
   "source": [
    "#Latest market value by nationality\n",
    "(df['latest_market_value'].groupby(df['country']).sum().round(2).sort_values(ascending = False)/100)[:10]"
   ]
  },
  {
   "cell_type": "code",
   "execution_count": 11,
   "metadata": {},
   "outputs": [
    {
     "data": {
      "text/plain": [
       "right    72.11\n",
       "left     22.41\n",
       "both      5.48\n",
       "Name: foot, dtype: float64"
      ]
     },
     "execution_count": 11,
     "metadata": {},
     "output_type": "execute_result"
    }
   ],
   "source": [
    "#Foot % in the players data\n",
    "df['foot'].value_counts(normalize = True).round(4)*100"
   ]
  },
  {
   "cell_type": "code",
   "execution_count": 12,
   "metadata": {},
   "outputs": [
    {
     "data": {
      "text/plain": [
       "league\n",
       "Premier League             91666050.0\n",
       "LaLiga                     59438490.0\n",
       "Serie A                    49905160.0\n",
       "Bundesliga_Germany         48882460.0\n",
       "Ligue 1                    35414970.0\n",
       "Liga NOS                   12941600.0\n",
       "Premier Liga_Russia         9965810.0\n",
       "Eredivisie                  9799720.0\n",
       "Jupiler Pro League          7456390.0\n",
       "SÃ¼per Lig                  5808460.0\n",
       "Bundesliga_Austria          3171110.0\n",
       "Premier Liga_Ukraine        3100200.0\n",
       "Super League 1              2879040.0\n",
       "Scottish Premiership        2533700.0\n",
       "Super League                2404840.0\n",
       "Superligaen                 2213750.0\n",
       "Fortuna Liga                2195750.0\n",
       "1.HNL                       2174310.0\n",
       "Super liga Srbije           2027060.0\n",
       "PKO Ekstraklasa             2014120.0\n",
       "Liga 1                      1758980.0\n",
       "Allsvenskan                 1725130.0\n",
       "efbet Liga                  1327360.0\n",
       "Eliteserien                 1261710.0\n",
       "Premier Liga_Kazakhstan     1254100.0\n",
       "Name: latest_market_value, dtype: float64"
      ]
     },
     "execution_count": 12,
     "metadata": {},
     "output_type": "execute_result"
    }
   ],
   "source": [
    "#Market value by league\n",
    "df['latest_market_value'].groupby(df['league']).sum().round(2).sort_values(ascending = False)/100"
   ]
  },
  {
   "cell_type": "code",
   "execution_count": 13,
   "metadata": {},
   "outputs": [
    {
     "data": {
      "text/plain": [
       "league\n",
       "Serie A                    116\n",
       "LaLiga                     116\n",
       "SÃ¼per Lig                 110\n",
       "Liga NOS                   101\n",
       "Ligue 1                     94\n",
       "Premier Liga_Russia         84\n",
       "Bundesliga_Germany          78\n",
       "PKO Ekstraklasa             69\n",
       "Super League 1              68\n",
       "Premier League              68\n",
       "Premier Liga_Ukraine        66\n",
       "Liga 1                      61\n",
       "Eredivisie                  59\n",
       "Jupiler Pro League          59\n",
       "Fortuna Liga                56\n",
       "1.HNL                       50\n",
       "Super liga Srbije           45\n",
       "Superligaen                 45\n",
       "Bundesliga_Austria          44\n",
       "Super League                42\n",
       "Scottish Premiership        34\n",
       "Allsvenskan                 25\n",
       "efbet Liga                  22\n",
       "Premier Liga_Kazakhstan     14\n",
       "Eliteserien                 14\n",
       "Name: sent_off, dtype: int64"
      ]
     },
     "execution_count": 13,
     "metadata": {},
     "output_type": "execute_result"
    }
   ],
   "source": [
    "#sent off by league\n",
    "df['sent_off'].groupby(df['league']).sum().round(2).sort_values(ascending = False)"
   ]
  },
  {
   "cell_type": "code",
   "execution_count": 14,
   "metadata": {},
   "outputs": [
    {
     "data": {
      "text/plain": [
       "league\n",
       "Premier League             1744\n",
       "Bundesliga_Germany         1598\n",
       "Serie A                    1482\n",
       "LaLiga                     1481\n",
       "Ligue 1                    1142\n",
       "SÃ¼per Lig                 1140\n",
       "Eredivisie                 1120\n",
       "Fortuna Liga               1084\n",
       "Liga NOS                   1059\n",
       "PKO Ekstraklasa            1028\n",
       "Premier Liga_Russia         901\n",
       "Superligaen                 899\n",
       "Jupiler Pro League          865\n",
       "Scottish Premiership        814\n",
       "Bundesliga_Austria          749\n",
       "Super League 1              738\n",
       "Liga 1                      730\n",
       "Super League                642\n",
       "Super liga Srbije           640\n",
       "Premier Liga_Ukraine        613\n",
       "1.HNL                       589\n",
       "Allsvenskan                 550\n",
       "Eliteserien                 402\n",
       "efbet Liga                  266\n",
       "Premier Liga_Kazakhstan     153\n",
       "Name: goals, dtype: int64"
      ]
     },
     "execution_count": 14,
     "metadata": {},
     "output_type": "execute_result"
    }
   ],
   "source": [
    "#goals by league\n",
    "df['goals'].groupby(df['league']).sum().round(2).sort_values(ascending = False)"
   ]
  },
  {
   "cell_type": "code",
   "execution_count": 15,
   "metadata": {},
   "outputs": [
    {
     "data": {
      "text/plain": [
       "league\n",
       "Premier League             378\n",
       "LaLiga                     335\n",
       "Ligue 1                    279\n",
       "Bundesliga_Germany         253\n",
       "Fortuna Liga               239\n",
       "Liga NOS                   239\n",
       "Serie A                    239\n",
       "PKO Ekstraklasa            206\n",
       "SÃ¼per Lig                 204\n",
       "Super League 1             199\n",
       "Eredivisie                 198\n",
       "Premier Liga_Russia        185\n",
       "Jupiler Pro League         160\n",
       "Superligaen                158\n",
       "Liga 1                     151\n",
       "Super liga Srbije          148\n",
       "Scottish Premiership       143\n",
       "1.HNL                      139\n",
       "Bundesliga_Austria         116\n",
       "Super League               112\n",
       "Premier Liga_Ukraine       110\n",
       "Allsvenskan                110\n",
       "efbet Liga                  79\n",
       "Eliteserien                 76\n",
       "Premier Liga_Kazakhstan     31\n",
       "Name: clean_sheets, dtype: int64"
      ]
     },
     "execution_count": 15,
     "metadata": {},
     "output_type": "execute_result"
    }
   ],
   "source": [
    "#clean sheets by league\n",
    "df['clean_sheets'].groupby(df['league']).sum().round(2).sort_values(ascending = False)"
   ]
  },
  {
   "cell_type": "code",
   "execution_count": 16,
   "metadata": {},
   "outputs": [
    {
     "data": {
      "text/plain": [
       "current_club\n",
       "Real Madrid            11697400.0\n",
       "Manchester City        11581630.0\n",
       "Liverpool FC           11207900.0\n",
       "FC Barcelona           10888900.0\n",
       "Bayern Munich          10172250.0\n",
       "Chelsea FC              8915500.0\n",
       "Paris Saint-Germain     8793950.0\n",
       "AtlÃ©tico Madrid        8493100.0\n",
       "Manchester United       8270630.0\n",
       "Tottenham Hotspur       7752800.0\n",
       "Juventus FC             6712200.0\n",
       "Arsenal FC              6589550.0\n",
       "Borussia Dortmund       6393750.0\n",
       "Inter Milan             6277150.0\n",
       "SSC Napoli              5880600.0\n",
       "RB Leipzig              5582780.0\n",
       "Leicester City          4931300.0\n",
       "Everton FC              4492400.0\n",
       "Bayer 04 Leverkusen     4363150.0\n",
       "SL Benfica              4173400.0\n",
       "Name: latest_market_value, dtype: float64"
      ]
     },
     "execution_count": 16,
     "metadata": {},
     "output_type": "execute_result"
    }
   ],
   "source": [
    "#club players market value\n",
    "(df['latest_market_value'].groupby(df['current_club']).sum().round(2).sort_values(ascending = False)/100)[:20]"
   ]
  },
  {
   "cell_type": "code",
   "execution_count": 17,
   "metadata": {},
   "outputs": [
    {
     "data": {
      "text/plain": [
       "<matplotlib.axes._subplots.AxesSubplot at 0x178d538c308>"
      ]
     },
     "execution_count": 17,
     "metadata": {},
     "output_type": "execute_result"
    },
    {
     "data": {
      "image/png": "[encoded data removed]",
      "text/plain": [
       "<Figure size 432x288 with 1 Axes>"
      ]
     },
     "metadata": {
      "needs_background": "light"
     },
     "output_type": "display_data"
    }
   ],
   "source": [
    "df.latest_market_value.hist()"
   ]
  },
  {
   "cell_type": "code",
   "execution_count": 18,
   "metadata": {
    "scrolled": true
   },
   "outputs": [
    {
     "data": {
      "text/plain": [
       "<matplotlib.axes._subplots.AxesSubplot at 0x178d6ffa2c8>"
      ]
     },
     "execution_count": 18,
     "metadata": {},
     "output_type": "execute_result"
    },
    {
     "data": {
      "image/png": "[encoded data removed]",
      "text/plain": [
       "<Figure size 432x288 with 1 Axes>"
      ]
     },
     "metadata": {
      "needs_background": "light"
     },
     "output_type": "display_data"
    }
   ],
   "source": [
    "df.highest_market_value.hist()"
   ]
  },
  {
   "cell_type": "code",
   "execution_count": 19,
   "metadata": {},
   "outputs": [
    {
     "data": {
      "text/plain": [
       "<matplotlib.axes._subplots.AxesSubplot at 0x178d7051d08>"
      ]
     },
     "execution_count": 19,
     "metadata": {},
     "output_type": "execute_result"
    },
    {
     "data": {
      "image/png": "[encoded data removed]",
      "text/plain": [
       "<Figure size 432x288 with 1 Axes>"
      ]
     },
     "metadata": {
      "needs_background": "light"
     },
     "output_type": "display_data"
    }
   ],
   "source": [
    "df.goals.hist()"
   ]
  },
  {
   "cell_type": "code",
   "execution_count": 20,
   "metadata": {},
   "outputs": [
    {
     "data": {
      "text/plain": [
       "<matplotlib.axes._subplots.AxesSubplot at 0x178d7c78388>"
      ]
     },
     "execution_count": 20,
     "metadata": {},
     "output_type": "execute_result"
    },
    {
     "data": {
      "image/png": "[encoded data removed]",
      "text/plain": [
       "<Figure size 432x288 with 1 Axes>"
      ]
     },
     "metadata": {
      "needs_background": "light"
     },
     "output_type": "display_data"
    }
   ],
   "source": [
    "df.age.hist()"
   ]
  },
  {
   "cell_type": "code",
   "execution_count": 21,
   "metadata": {},
   "outputs": [
    {
     "data": {
      "text/plain": [
       "<matplotlib.axes._subplots.AxesSubplot at 0x178d7c98b08>"
      ]
     },
     "execution_count": 21,
     "metadata": {},
     "output_type": "execute_result"
    },
    {
     "data": {
      "image/png": "[encoded data removed]",
      "text/plain": [
       "<Figure size 432x288 with 1 Axes>"
      ]
     },
     "metadata": {
      "needs_background": "light"
     },
     "output_type": "display_data"
    }
   ],
   "source": [
    "df.appearances.hist()"
   ]
  },
  {
   "cell_type": "code",
   "execution_count": 22,
   "metadata": {
    "scrolled": true
   },
   "outputs": [
    {
     "data": {
      "text/plain": [
       "<matplotlib.axes._subplots.AxesSubplot at 0x178d7d89388>"
      ]
     },
     "execution_count": 22,
     "metadata": {},
     "output_type": "execute_result"
    },
    {
     "data": {
      "image/png": "[encoded data removed]",
      "text/plain": [
       "<Figure size 432x288 with 1 Axes>"
      ]
     },
     "metadata": {
      "needs_background": "light"
     },
     "output_type": "display_data"
    }
   ],
   "source": [
    "df.minutes_played.hist()"
   ]
  },
  {
   "cell_type": "code",
   "execution_count": 23,
   "metadata": {
    "scrolled": true
   },
   "outputs": [
    {
     "data": {
      "text/plain": [
       "<matplotlib.axes._subplots.AxesSubplot at 0x178d7e14c08>"
      ]
     },
     "execution_count": 23,
     "metadata": {},
     "output_type": "execute_result"
    },
    {
     "data": {
      "image/png": "[encoded data removed]",
      "text/plain": [
       "<Figure size 432x288 with 1 Axes>"
      ]
     },
     "metadata": {
      "needs_background": "light"
     },
     "output_type": "display_data"
    }
   ],
   "source": [
    "df.yellow.hist()"
   ]
  },
  {
   "cell_type": "markdown",
   "metadata": {},
   "source": [
    "# Analyzing per game stats by league"
   ]
  },
  {
   "cell_type": "markdown",
   "metadata": {},
   "source": [
    "### These stats must be understood as an average of player per game stats, since we are calculating a mean of the per game stats for each league."
   ]
  },
  {
   "cell_type": "code",
   "execution_count": 24,
   "metadata": {
    "scrolled": false
   },
   "outputs": [
    {
     "data": {
      "image/png": "[encoded data removed]",
      "text/plain": [
       "<Figure size 432x288 with 1 Axes>"
      ]
     },
     "metadata": {
      "needs_background": "light"
     },
     "output_type": "display_data"
    },
    {
     "data": {
      "image/png": "[encoded data removed]",
      "text/plain": [
       "<Figure size 432x288 with 1 Axes>"
      ]
     },
     "metadata": {
      "needs_background": "light"
     },
     "output_type": "display_data"
    },
    {
     "data": {
      "image/png": "[encoded data removed]",
      "text/plain": [
       "<Figure size 432x288 with 1 Axes>"
      ]
     },
     "metadata": {
      "needs_background": "light"
     },
     "output_type": "display_data"
    },
    {
     "data": {
      "image/png": "[encoded data removed]",
      "text/plain": [
       "<Figure size 432x288 with 1 Axes>"
      ]
     },
     "metadata": {
      "needs_background": "light"
     },
     "output_type": "display_data"
    },
    {
     "data": {
      "image/png": "[encoded data removed]",
      "text/plain": [
       "<Figure size 432x288 with 1 Axes>"
      ]
     },
     "metadata": {
      "needs_background": "light"
     },
     "output_type": "display_data"
    },
    {
     "data": {
      "image/png": "[encoded data removed]",
      "text/plain": [
       "<Figure size 432x288 with 1 Axes>"
      ]
     },
     "metadata": {
      "needs_background": "light"
     },
     "output_type": "display_data"
    },
    {
     "data": {
      "image/png": "[encoded data removed]",
      "text/plain": [
       "<Figure size 432x288 with 1 Axes>"
      ]
     },
     "metadata": {
      "needs_background": "light"
     },
     "output_type": "display_data"
    },
    {
     "data": {
      "image/png": "[encoded data removed]",
      "text/plain": [
       "<Figure size 432x288 with 1 Axes>"
      ]
     },
     "metadata": {
      "needs_background": "light"
     },
     "output_type": "display_data"
    }
   ],
   "source": [
    "sns.cubehelix_palette(start=.5, rot=-.5, as_cmap=True)\n",
    "\n",
    "#Code by: https://github.com/PlayingNumbers/ds_salary_proj/blob/master/data_eda.ipynb\n",
    "for i in new_metrics:\n",
    "    cat_num = df[i].groupby(df['league']).mean().round(2).sort_values(ascending = False)[:10]\n",
    "    chart = sns.barplot(y=cat_num.index, x=cat_num, palette = 'mako')\n",
    "    plt.show()"
   ]
  },
  {
   "cell_type": "markdown",
   "metadata": {},
   "source": [
    "# Analyzing per game stats by player"
   ]
  },
  {
   "cell_type": "code",
   "execution_count": 30,
   "metadata": {
    "scrolled": false
   },
   "outputs": [
    {
     "data": {
      "image/png": "[encoded data removed]",
      "text/plain": [
       "<Figure size 432x288 with 1 Axes>"
      ]
     },
     "metadata": {
      "needs_background": "light"
     },
     "output_type": "display_data"
    },
    {
     "data": {
      "image/png": "[encoded data removed]",
      "text/plain": [
       "<Figure size 432x288 with 1 Axes>"
      ]
     },
     "metadata": {
      "needs_background": "light"
     },
     "output_type": "display_data"
    },
    {
     "data": {
      "image/png": "[encoded data removed]",
      "text/plain": [
       "<Figure size 432x288 with 1 Axes>"
      ]
     },
     "metadata": {
      "needs_background": "light"
     },
     "output_type": "display_data"
    },
    {
     "data": {
      "image/png": "[encoded data removed]",
      "text/plain": [
       "<Figure size 432x288 with 1 Axes>"
      ]
     },
     "metadata": {
      "needs_background": "light"
     },
     "output_type": "display_data"
    },
    {
     "data": {
      "image/png": "[encoded data removed]",
      "text/plain": [
       "<Figure size 432x288 with 1 Axes>"
      ]
     },
     "metadata": {
      "needs_background": "light"
     },
     "output_type": "display_data"
    },
    {
     "data": {
      "image/png": "[encoded data removed]",
      "text/plain": [
       "<Figure size 432x288 with 1 Axes>"
      ]
     },
     "metadata": {
      "needs_background": "light"
     },
     "output_type": "display_data"
    },
    {
     "data": {
      "image/png": "[encoded data removed]",
      "text/plain": [
       "<Figure size 432x288 with 1 Axes>"
      ]
     },
     "metadata": {
      "needs_background": "light"
     },
     "output_type": "display_data"
    },
    {
     "data": {
      "image/png": "[encoded data removed]",
      "text/plain": [
       "<Figure size 432x288 with 1 Axes>"
      ]
     },
     "metadata": {
      "needs_background": "light"
     },
     "output_type": "display_data"
    }
   ],
   "source": [
    "#Code by: https://github.com/PlayingNumbers/ds_salary_proj/blob/master/data_eda.ipynb\n",
    "\n",
    "#there may be an error in this cell because of a font problem, if needed just remove the \"set_ylabel\" line\n",
    "for i in new_metrics:\n",
    "    cat_num = df[['short_name', i]].round(2).sort_values(by = i, ascending = False)[:10]\n",
    "    chart = sns.barplot(y=cat_num.iloc[:,0], x=cat_num.iloc[:,1], palette=\"mako\")\n",
    "    chart.set_ylabel('player')\n",
    "    plt.show()"
   ]
  },
  {
   "cell_type": "markdown",
   "metadata": {},
   "source": [
    "# A glince at correlation"
   ]
  },
  {
   "cell_type": "code",
   "execution_count": 26,
   "metadata": {
    "scrolled": true
   },
   "outputs": [
    {
     "data": {
      "text/plain": [
       "<matplotlib.axes._subplots.AxesSubplot at 0x178d8325b88>"
      ]
     },
     "execution_count": 26,
     "metadata": {},
     "output_type": "execute_result"
    },
    {
     "data": {
      "image/png": "[encoded data removed]",
      "text/plain": [
       "<Figure size 432x288 with 2 Axes>"
      ]
     },
     "metadata": {
      "needs_background": "light"
     },
     "output_type": "display_data"
    }
   ],
   "source": [
    "#correlation for some of the numerical variables\n",
    "cmap = sns.cubehelix_palette(8, start=.5, rot=-.75)\n",
    "sns.heatmap(df[['latest_market_value', 'appearances', 'highest_market_value','assists','goals', 'age', 'yellow']].corr(), cmap=cmap)"
   ]
  },
  {
   "cell_type": "code",
   "execution_count": 27,
   "metadata": {
    "scrolled": true
   },
   "outputs": [
    {
     "data": {
      "text/plain": [
       "latest_market_value            1.00\n",
       "highest_market_value           0.94\n",
       "appearances                    0.36\n",
       "assists                        0.35\n",
       "minutes_played                 0.34\n",
       "goals                          0.33\n",
       "last_assists                   0.31\n",
       "last_appearances               0.30\n",
       "last_goals                     0.29\n",
       "last_minutes_played            0.28\n",
       "assists_per_game               0.21\n",
       "last_assists_per_game          0.20\n",
       "goals_per_game                 0.19\n",
       "last_goals_per_game            0.17\n",
       "yellow                         0.17\n",
       "last_yellow                    0.14\n",
       "minutes_per_game               0.10\n",
       "country_2                      0.09\n",
       "last_minutes_per_game          0.09\n",
       "secondary_position             0.05\n",
       "last_red                       0.05\n",
       "last_sent_off                  0.04\n",
       "clean_sheets                   0.03\n",
       "sent_off                       0.03\n",
       "red                            0.03\n",
       "last_clean_sheets              0.02\n",
       "second_yellow                  0.01\n",
       "last_second_yellow             0.01\n",
       "goals_conceded                 0.00\n",
       "on_loan_from                   0.00\n",
       "last_goals_conceded           -0.01\n",
       "age                           -0.03\n",
       "height                        -0.03\n",
       "goalsconceded_per_game        -0.05\n",
       "last_goalsconceded_per_game   -0.05\n",
       "Name: latest_market_value, dtype: float64"
      ]
     },
     "execution_count": 27,
     "metadata": {},
     "output_type": "execute_result"
    }
   ],
   "source": [
    "#correlation of the column \"latest_market_value\" with the rest of the variables\n",
    "df.corr()['latest_market_value'].sort_values(ascending = False).round(2)"
   ]
  },
  {
   "cell_type": "markdown",
   "metadata": {},
   "source": [
    "Clearly there is no considerable correlation between the column of \"latest_market_value\" that we would predict and the other columns in the dataframe, except for the \"highest_market_value\" column, which is not coherent."
   ]
  },
  {
   "cell_type": "code",
   "execution_count": 28,
   "metadata": {},
   "outputs": [],
   "source": [
    "#exporting to csv\n",
    "df.to_csv('eda_df.csv')"
   ]
  }
 ],
 "metadata": {
  "kernelspec": {
   "display_name": "Python 3",
   "language": "python",
   "name": "python3"
  },
  "language_info": {
   "codemirror_mode": {
    "name": "ipython",
    "version": 3
   },
   "file_extension": ".py",
   "mimetype": "text/x-python",
   "name": "python",
   "nbconvert_exporter": "python",
   "pygments_lexer": "ipython3",
   "version": "3.7.6"
  }
 },
 "nbformat": 4,
 "nbformat_minor": 4
}
