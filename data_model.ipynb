{
 "cells": [
  {
   "cell_type": "code",
   "execution_count": 1,
   "metadata": {},
   "outputs": [],
   "source": [
    "import pandas as pd\n",
    "from sklearn.linear_model import LinearRegression, Lasso\n",
    "from sklearn.model_selection import cross_val_score\n",
    "from sklearn import metrics\n",
    "from sklearn.ensemble import RandomForestRegressor\n",
    "import numpy as np"
   ]
  },
  {
   "cell_type": "code",
   "execution_count": 2,
   "metadata": {},
   "outputs": [],
   "source": [
    "df = pd.read_csv('eda_df.csv')"
   ]
  },
  {
   "cell_type": "code",
   "execution_count": 3,
   "metadata": {
    "scrolled": false
   },
   "outputs": [
    {
     "data": {
      "text/plain": [
       "latest_market_value            1.00\n",
       "highest_market_value           0.94\n",
       "appearances                    0.36\n",
       "assists                        0.35\n",
       "minutes_played                 0.34\n",
       "goals                          0.33\n",
       "last_assists                   0.31\n",
       "last_appearances               0.30\n",
       "last_goals                     0.29\n",
       "last_minutes_played            0.28\n",
       "assists_per_game               0.21\n",
       "last_assists_per_game          0.20\n",
       "goals_per_game                 0.19\n",
       "last_goals_per_game            0.17\n",
       "yellow                         0.17\n",
       "last_yellow                    0.14\n",
       "minutes_per_game               0.10\n",
       "country_2                      0.09\n",
       "last_minutes_per_game          0.09\n",
       "secondary_position             0.05\n",
       "last_red                       0.05\n",
       "last_sent_off                  0.04\n",
       "clean_sheets                   0.03\n",
       "sent_off                       0.03\n",
       "red                            0.03\n",
       "last_clean_sheets              0.02\n",
       "second_yellow                  0.01\n",
       "last_second_yellow             0.01\n",
       "goals_conceded                 0.00\n",
       "on_loan_from                   0.00\n",
       "last_goals_conceded           -0.01\n",
       "age                           -0.03\n",
       "height                        -0.03\n",
       "goalsconceded_per_game        -0.05\n",
       "last_goalsconceded_per_game   -0.05\n",
       "Unnamed: 0                    -0.41\n",
       "Name: latest_market_value, dtype: float64"
      ]
     },
     "execution_count": 3,
     "metadata": {},
     "output_type": "execute_result"
    }
   ],
   "source": [
    "#checking correlation in all the data\n",
    "df.corr()['latest_market_value'].sort_values(ascending = False).round(2)"
   ]
  },
  {
   "cell_type": "markdown",
   "metadata": {},
   "source": [
    "# Attempt using all data"
   ]
  },
  {
   "cell_type": "code",
   "execution_count": 4,
   "metadata": {},
   "outputs": [],
   "source": [
    "#some of the best features in correlation\n",
    "df_players_model = df[['age','minutes_played', 'appearances', 'goals','assists', 'last_minutes_played', 'last_appearances', 'last_goals','last_assists','latest_market_value', 'league', 'foot', 'outfitter']]\n",
    "\n",
    "#df_players_model = df[['age', 'minutes_per_game', 'goals_per_game', 'assists_per_game','latest_market_value', 'league']]\n",
    "#df_players_model = df[['clean_sheets', 'latest_market_value', 'appearances', 'minutes_played']]\n",
    "\n",
    "\n",
    "#getting dummies for non numerical variables\n",
    "df_dum = pd.get_dummies(df_players_model)\n",
    "\n",
    "# train test split \n",
    "from sklearn.model_selection import train_test_split\n",
    "\n",
    "X = df_dum.drop('latest_market_value', axis =1)\n",
    "y = df_dum.latest_market_value.values\n",
    "\n",
    "X_train, X_test, y_train, y_test = train_test_split(X, y, test_size=0.3, random_state=101, shuffle = True)\n",
    "\n",
    "\n",
    "#setting up algorithms\n",
    "lm = LinearRegression()\n",
    "lm.fit(X_train, y_train)\n",
    "\n",
    "rf = RandomForestRegressor(random_state = 101)\n"
   ]
  },
  {
   "cell_type": "code",
   "execution_count": 5,
   "metadata": {},
   "outputs": [
    {
     "name": "stdout",
     "output_type": "stream",
     "text": [
      "Linear Regression r2 result = 0.4\n",
      "Random Forest r2 result = 0.5\n"
     ]
    }
   ],
   "source": [
    "y_predicted = lm.predict(X_test)\n",
    "print('Linear Regression r2 result = %s' % metrics.r2_score(y_test, y_predicted).round(2))\n",
    "print('Random Forest r2 result =', np.mean(cross_val_score(rf,X_train,y_train,scoring = 'r2', cv= 3, )).round(2))"
   ]
  },
  {
   "cell_type": "markdown",
   "metadata": {},
   "source": [
    "# Attempt using only offensive players"
   ]
  },
  {
   "cell_type": "code",
   "execution_count": 6,
   "metadata": {},
   "outputs": [],
   "source": [
    "#filtering only forwards\n",
    "df_players = df[df['main_position'].str.contains('Forward')]"
   ]
  },
  {
   "cell_type": "code",
   "execution_count": 7,
   "metadata": {},
   "outputs": [
    {
     "data": {
      "text/plain": [
       "latest_market_value            1.00\n",
       "highest_market_value           0.93\n",
       "goals                          0.48\n",
       "assists                        0.43\n",
       "minutes_played                 0.39\n",
       "last_goals                     0.37\n",
       "appearances                    0.36\n",
       "last_assists                   0.34\n",
       "last_minutes_played            0.32\n",
       "goals_per_game                 0.31\n",
       "last_appearances               0.31\n",
       "assists_per_game               0.28\n",
       "last_goals_per_game            0.22\n",
       "last_assists_per_game          0.21\n",
       "minutes_per_game               0.20\n",
       "last_minutes_per_game          0.16\n",
       "yellow                         0.15\n",
       "last_yellow                    0.14\n",
       "last_red                       0.12\n",
       "last_sent_off                  0.07\n",
       "country_2                      0.07\n",
       "red                            0.04\n",
       "secondary_position             0.04\n",
       "sent_off                       0.03\n",
       "on_loan_from                   0.00\n",
       "age                            0.00\n",
       "second_yellow                 -0.00\n",
       "last_second_yellow            -0.02\n",
       "height                        -0.04\n",
       "Unnamed: 0                    -0.39\n",
       "goals_conceded                  NaN\n",
       "clean_sheets                    NaN\n",
       "last_goals_conceded             NaN\n",
       "last_clean_sheets               NaN\n",
       "goalsconceded_per_game          NaN\n",
       "last_goalsconceded_per_game     NaN\n",
       "Name: latest_market_value, dtype: float64"
      ]
     },
     "execution_count": 7,
     "metadata": {},
     "output_type": "execute_result"
    }
   ],
   "source": [
    "df_players.corr()['latest_market_value'].sort_values(ascending = False).round(2)"
   ]
  },
  {
   "cell_type": "code",
   "execution_count": 8,
   "metadata": {},
   "outputs": [],
   "source": [
    "df_players_model = df_players[['age','minutes_played', 'appearances', 'goals','assists', 'last_minutes_played', 'last_appearances', 'last_goals','last_assists','latest_market_value', 'league', 'foot', 'outfitter']]\n",
    "\n",
    "#df_players_model = df[['age', 'minutes_per_game', 'goals_per_game', 'assists_per_game','latest_market_value', 'league']]\n",
    "#df_players_model = df[['clean_sheets', 'latest_market_value', 'appearances', 'minutes_played']]\n",
    "\n",
    "#getting dummies for non numerical variables\n",
    "df_dum = pd.get_dummies(df_players_model)\n",
    "\n",
    "# train test split \n",
    "from sklearn.model_selection import train_test_split\n",
    "\n",
    "X = df_dum.drop('latest_market_value', axis =1)\n",
    "y = df_dum.latest_market_value.values\n",
    "\n",
    "X_train, X_test, y_train, y_test = train_test_split(X, y, test_size=0.3, random_state=101, shuffle = True)\n",
    "\n",
    "\n",
    "#setting up algorithms\n",
    "lm = LinearRegression()\n",
    "lm.fit(X_train, y_train)\n",
    "\n",
    "rf = RandomForestRegressor(random_state = 101)"
   ]
  },
  {
   "cell_type": "code",
   "execution_count": 9,
   "metadata": {},
   "outputs": [
    {
     "name": "stdout",
     "output_type": "stream",
     "text": [
      "Linear Regression r2 result = 0.39\n",
      "Random Forest r2 result = 0.17\n"
     ]
    }
   ],
   "source": [
    "y_predicted = lm.predict(X_test)\n",
    "print('Linear Regression r2 result = %s' % metrics.r2_score(y_test, y_predicted).round(2))\n",
    "print('Random Forest r2 result =', np.mean(cross_val_score(rf,X_train,y_train,scoring = 'r2', cv= 3, )).round(2))"
   ]
  },
  {
   "cell_type": "markdown",
   "metadata": {},
   "source": [
    "# Attempt using only keepers"
   ]
  },
  {
   "cell_type": "code",
   "execution_count": 10,
   "metadata": {},
   "outputs": [],
   "source": [
    "#filtering only keepers\n",
    "df_players = df[(df['main_position'] == 'Goalkeeper')]"
   ]
  },
  {
   "cell_type": "code",
   "execution_count": 11,
   "metadata": {},
   "outputs": [
    {
     "data": {
      "text/plain": [
       "latest_market_value            1.00\n",
       "highest_market_value           0.94\n",
       "clean_sheets                   0.43\n",
       "appearances                    0.40\n",
       "minutes_played                 0.40\n",
       "last_clean_sheets              0.37\n",
       "last_appearances               0.32\n",
       "last_minutes_played            0.32\n",
       "goals_conceded                 0.29\n",
       "last_goals_conceded            0.21\n",
       "yellow                         0.13\n",
       "last_yellow                    0.12\n",
       "minutes_per_game               0.10\n",
       "last_minutes_per_game          0.09\n",
       "red                            0.09\n",
       "sent_off                       0.08\n",
       "height                         0.03\n",
       "country_2                      0.01\n",
       "last_red                       0.00\n",
       "age                           -0.00\n",
       "last_sent_off                 -0.00\n",
       "last_goals_per_game           -0.01\n",
       "last_goals                    -0.01\n",
       "last_second_yellow            -0.01\n",
       "on_loan_from                  -0.01\n",
       "goals_per_game                -0.02\n",
       "goals                         -0.02\n",
       "second_yellow                 -0.02\n",
       "last_goalsconceded_per_game   -0.03\n",
       "goalsconceded_per_game        -0.03\n",
       "Unnamed: 0                    -0.32\n",
       "secondary_position              NaN\n",
       "assists                         NaN\n",
       "last_assists                    NaN\n",
       "assists_per_game                NaN\n",
       "last_assists_per_game           NaN\n",
       "Name: latest_market_value, dtype: float64"
      ]
     },
     "execution_count": 11,
     "metadata": {},
     "output_type": "execute_result"
    }
   ],
   "source": [
    "df_players.corr()['latest_market_value'].sort_values(ascending = False).round(2)"
   ]
  },
  {
   "cell_type": "code",
   "execution_count": 12,
   "metadata": {},
   "outputs": [],
   "source": [
    "#df_players_model = df_players[['age','minutes_played', 'appearances', 'goals','assists', 'last_minutes_played', 'last_appearances', 'last_goals','last_assists','latest_market_value', 'league', 'foot', 'outfitter']]\n",
    "#df_players_model = df[['age', 'minutes_per_game', 'goals_per_game', 'assists_per_game','latest_market_value', 'league']]\n",
    "\n",
    "#some of the best features for keepers\n",
    "df_players_model = df[['clean_sheets', 'latest_market_value', 'appearances', 'minutes_played']]\n",
    "\n",
    "\n",
    "df_dum = pd.get_dummies(df_players_model)\n",
    "\n",
    "# train test split \n",
    "from sklearn.model_selection import train_test_split\n",
    "\n",
    "X = df_dum.drop('latest_market_value', axis =1)\n",
    "y = df_dum.latest_market_value.values\n",
    "\n",
    "X_train, X_test, y_train, y_test = train_test_split(X, y, test_size=0.3, random_state=101, shuffle = True)\n",
    "\n",
    "\n",
    "#setting up algorithms\n",
    "lm = LinearRegression()\n",
    "lm.fit(X_train, y_train)\n",
    "\n",
    "rf = RandomForestRegressor(random_state = 101)"
   ]
  },
  {
   "cell_type": "code",
   "execution_count": 13,
   "metadata": {},
   "outputs": [
    {
     "name": "stdout",
     "output_type": "stream",
     "text": [
      "Linear Regression r2 result = 0.12\n",
      "Random Forest r2 result = -0.0\n"
     ]
    }
   ],
   "source": [
    "y_predicted = lm.predict(X_test)\n",
    "print('Linear Regression r2 result = %s' % metrics.r2_score(y_test, y_predicted).round(2))\n",
    "print('Random Forest r2 result =', np.mean(cross_val_score(rf,X_train,y_train,scoring = 'r2', cv= 3, )).round(2))"
   ]
  },
  {
   "cell_type": "markdown",
   "metadata": {},
   "source": [
    "Unfortunately the best result I managed to get using these 2 algorithms explained around 0.4 and 0.5 per cent of the data, which is not good enough for a prediction model. In my perspectiv\n",
    "e, there isn't enough stats so that one could actually predict player prices since football is way too complex to sum up its valuable stats in goals, assists, appearances, age, etc. Football takes into account many other factors that will hardly be found in any football stats website. Not to mention that these stats are way too general. For example, center-backs and defensive midfielders should have tackles and ball recovery stats to be taken into account too. Keepers should have a saves stat and so on. "
   ]
  }
 ],
 "metadata": {
  "kernelspec": {
   "display_name": "Python 3",
   "language": "python",
   "name": "python3"
  },
  "language_info": {
   "codemirror_mode": {
    "name": "ipython",
    "version": 3
   },
   "file_extension": ".py",
   "mimetype": "text/x-python",
   "name": "python",
   "nbconvert_exporter": "python",
   "pygments_lexer": "ipython3",
   "version": "3.7.6"
  }
 },
 "nbformat": 4,
 "nbformat_minor": 4
}
